{
 "cells": [
  {
   "cell_type": "code",
   "execution_count": 1,
   "metadata": {},
   "outputs": [],
   "source": [
    "# Importing dependencies\n",
    "import pandas as pd\n",
    "import sqlite3\n",
    "from pprint import pprint\n"
   ]
  },
  {
   "cell_type": "code",
   "execution_count": 5,
   "metadata": {},
   "outputs": [
    {
     "data": {
      "text/html": [
       "<div>\n",
       "<style scoped>\n",
       "    .dataframe tbody tr th:only-of-type {\n",
       "        vertical-align: middle;\n",
       "    }\n",
       "\n",
       "    .dataframe tbody tr th {\n",
       "        vertical-align: top;\n",
       "    }\n",
       "\n",
       "    .dataframe thead th {\n",
       "        text-align: right;\n",
       "    }\n",
       "</style>\n",
       "<table border=\"1\" class=\"dataframe\">\n",
       "  <thead>\n",
       "    <tr style=\"text-align: right;\">\n",
       "      <th></th>\n",
       "      <th>Category</th>\n",
       "      <th>Description</th>\n",
       "      <th>DayOfWeek</th>\n",
       "      <th>Date</th>\n",
       "      <th>Time</th>\n",
       "      <th>PdDistrict</th>\n",
       "      <th>Resolution</th>\n",
       "      <th>Address</th>\n",
       "      <th>Longitude</th>\n",
       "      <th>Latitude</th>\n",
       "      <th>Location</th>\n",
       "    </tr>\n",
       "  </thead>\n",
       "  <tbody>\n",
       "    <tr>\n",
       "      <th>0</th>\n",
       "      <td>WEAPON LAWS</td>\n",
       "      <td>POSS OF PROHIBITED WEAPON</td>\n",
       "      <td>Friday</td>\n",
       "      <td>29-01-2016</td>\n",
       "      <td>11.00</td>\n",
       "      <td>SOUTHERN</td>\n",
       "      <td>ARREST, BOOKED</td>\n",
       "      <td>800 Block of BRYANT ST</td>\n",
       "      <td>-122.403405</td>\n",
       "      <td>37.775421</td>\n",
       "      <td>(37.775420706711, -122.403404791479)</td>\n",
       "    </tr>\n",
       "    <tr>\n",
       "      <th>1</th>\n",
       "      <td>WEAPON LAWS</td>\n",
       "      <td>FIREARM, LOADED, IN VEHICLE, POSSESSION OR USE</td>\n",
       "      <td>Friday</td>\n",
       "      <td>29-01-2016</td>\n",
       "      <td>11.00</td>\n",
       "      <td>SOUTHERN</td>\n",
       "      <td>ARREST, BOOKED</td>\n",
       "      <td>800 Block of BRYANT ST</td>\n",
       "      <td>-122.403405</td>\n",
       "      <td>37.775421</td>\n",
       "      <td>(37.775420706711, -122.403404791479)</td>\n",
       "    </tr>\n",
       "    <tr>\n",
       "      <th>2</th>\n",
       "      <td>WARRANTS</td>\n",
       "      <td>WARRANT ARREST</td>\n",
       "      <td>Monday</td>\n",
       "      <td>25-04-2016</td>\n",
       "      <td>14.59</td>\n",
       "      <td>BAYVIEW</td>\n",
       "      <td>ARREST, BOOKED</td>\n",
       "      <td>KEITH ST / SHAFTER AV</td>\n",
       "      <td>-122.388856</td>\n",
       "      <td>37.729981</td>\n",
       "      <td>(37.7299809672996, -122.388856204292)</td>\n",
       "    </tr>\n",
       "    <tr>\n",
       "      <th>3</th>\n",
       "      <td>NON-CRIMINAL</td>\n",
       "      <td>LOST PROPERTY</td>\n",
       "      <td>Tuesday</td>\n",
       "      <td>05-01-2016</td>\n",
       "      <td>23.50</td>\n",
       "      <td>TENDERLOIN</td>\n",
       "      <td>NONE</td>\n",
       "      <td>JONES ST / OFARRELL ST</td>\n",
       "      <td>-122.412971</td>\n",
       "      <td>37.785788</td>\n",
       "      <td>(37.7857883766888, -122.412970537591)</td>\n",
       "    </tr>\n",
       "    <tr>\n",
       "      <th>4</th>\n",
       "      <td>NON-CRIMINAL</td>\n",
       "      <td>LOST PROPERTY</td>\n",
       "      <td>Friday</td>\n",
       "      <td>01-01-2016</td>\n",
       "      <td>0.30</td>\n",
       "      <td>MISSION</td>\n",
       "      <td>NONE</td>\n",
       "      <td>16TH ST / MISSION ST</td>\n",
       "      <td>-122.419672</td>\n",
       "      <td>37.765050</td>\n",
       "      <td>(37.7650501214668, -122.419671780296)</td>\n",
       "    </tr>\n",
       "  </tbody>\n",
       "</table>\n",
       "</div>"
      ],
      "text/plain": [
       "       Category                                     Description DayOfWeek  \\\n",
       "0   WEAPON LAWS                       POSS OF PROHIBITED WEAPON    Friday   \n",
       "1   WEAPON LAWS  FIREARM, LOADED, IN VEHICLE, POSSESSION OR USE    Friday   \n",
       "2      WARRANTS                                  WARRANT ARREST    Monday   \n",
       "3  NON-CRIMINAL                                   LOST PROPERTY   Tuesday   \n",
       "4  NON-CRIMINAL                                   LOST PROPERTY    Friday   \n",
       "\n",
       "         Date   Time  PdDistrict      Resolution                 Address  \\\n",
       "0  29-01-2016  11.00    SOUTHERN  ARREST, BOOKED  800 Block of BRYANT ST   \n",
       "1  29-01-2016  11.00    SOUTHERN  ARREST, BOOKED  800 Block of BRYANT ST   \n",
       "2  25-04-2016  14.59     BAYVIEW  ARREST, BOOKED   KEITH ST / SHAFTER AV   \n",
       "3  05-01-2016  23.50  TENDERLOIN            NONE  JONES ST / OFARRELL ST   \n",
       "4  01-01-2016   0.30     MISSION            NONE    16TH ST / MISSION ST   \n",
       "\n",
       "    Longitude   Latitude                               Location  \n",
       "0 -122.403405  37.775421   (37.775420706711, -122.403404791479)  \n",
       "1 -122.403405  37.775421   (37.775420706711, -122.403404791479)  \n",
       "2 -122.388856  37.729981  (37.7299809672996, -122.388856204292)  \n",
       "3 -122.412971  37.785788  (37.7857883766888, -122.412970537591)  \n",
       "4 -122.419672  37.765050  (37.7650501214668, -122.419671780296)  "
      ]
     },
     "execution_count": 5,
     "metadata": {},
     "output_type": "execute_result"
    }
   ],
   "source": [
    "df = pd.read_csv('SanFrancisco Crime Incidents_Clean.csv')\n",
    "df.head()"
   ]
  },
  {
   "cell_type": "code",
   "execution_count": 6,
   "metadata": {},
   "outputs": [],
   "source": [
    "conn = sqlite3.connect('San Francisco.db')\n",
    "cur = conn.cursor()"
   ]
  },
  {
   "cell_type": "code",
   "execution_count": 8,
   "metadata": {},
   "outputs": [],
   "source": [
    "cur.execute('DROP TABLE IF EXISTS SanFrancisco_Crime;')\n",
    "conn.commit()"
   ]
  },
  {
   "cell_type": "code",
   "execution_count": 9,
   "metadata": {},
   "outputs": [],
   "source": [
    "df.to_sql('SanFrancisco_Crime', con = conn)"
   ]
  },
  {
   "cell_type": "code",
   "execution_count": 20,
   "metadata": {},
   "outputs": [
    {
     "name": "stdout",
     "output_type": "stream",
     "text": [
      "[(150500,)]\n"
     ]
    }
   ],
   "source": [
    "cur.execute(\"SELECT COUNT(*) FROM SanFrancisco_Crime LIMIT 5;\")\n",
    "print(cur.fetchall())"
   ]
  },
  {
   "cell_type": "markdown",
   "metadata": {},
   "source": [
    "### Top 10 Crime Categories "
   ]
  },
  {
   "cell_type": "code",
   "execution_count": 21,
   "metadata": {},
   "outputs": [
    {
     "name": "stdout",
     "output_type": "stream",
     "text": [
      "[('LARCENY/THEFT', 40409),\n",
      " ('OTHER OFFENSES', 19599),\n",
      " ('NON-CRIMINAL', 17866),\n",
      " ('ASSAULT', 13577),\n",
      " ('VANDALISM', 8589),\n",
      " ('VEHICLE THEFT', 6419),\n",
      " ('WARRANTS', 5914),\n",
      " ('BURGLARY', 5802),\n",
      " ('SUSPICIOUS OCC', 5782),\n",
      " ('MISSING PERSON', 4338)]\n"
     ]
    }
   ],
   "source": [
    "cur.execute(\"SELECT DISTINCT(Category), COUNT(*) as Number FROM SanFrancisco_Crime GROUP BY Category ORDER BY Number DESC LIMIT 10;\")\n",
    "pprint(cur.fetchall())"
   ]
  },
  {
   "cell_type": "markdown",
   "metadata": {},
   "source": [
    "### District with Most Crimes"
   ]
  },
  {
   "cell_type": "code",
   "execution_count": 33,
   "metadata": {},
   "outputs": [
    {
     "name": "stdout",
     "output_type": "stream",
     "text": [
      "[('SOUTHERN', 28446)]\n"
     ]
    }
   ],
   "source": [
    "cur.execute(\"SELECT DISTINCT(PdDistrict), COUNT(*) as Number FROM SanFrancisco_Crime GROUP BY PdDistrict ORDER BY Number DESC LIMIT 1;\")\n",
    "pprint(cur.fetchall())"
   ]
  },
  {
   "cell_type": "markdown",
   "metadata": {},
   "source": [
    "### Top 10 Crime Resolutions"
   ]
  },
  {
   "cell_type": "code",
   "execution_count": 39,
   "metadata": {},
   "outputs": [
    {
     "name": "stdout",
     "output_type": "stream",
     "text": [
      "[('NONE', 107780),\n",
      " ('ARREST, BOOKED', 39416),\n",
      " ('UNFOUNDED', 1608),\n",
      " ('JUVENILE BOOKED', 1056),\n",
      " ('EXCEPTIONAL CLEARANCE', 371),\n",
      " ('ARREST, CITED', 144),\n",
      " ('CLEARED-CONTACT JUVENILE FOR MORE INFO', 58),\n",
      " ('NOT PROSECUTED', 22),\n",
      " ('LOCATED', 20),\n",
      " ('PSYCHOPATHIC CASE', 17)]\n"
     ]
    }
   ],
   "source": [
    "cur.execute(\"SELECT DISTINCT(Resolution), COUNT(*) AS Number FROM SanFrancisco_Crime GROUP BY Resolution ORDER BY Number DESC LIMIT 10;\")\n",
    "pprint(cur.fetchall())"
   ]
  },
  {
   "cell_type": "markdown",
   "metadata": {},
   "source": [
    "### Days with Most Crimes"
   ]
  },
  {
   "cell_type": "code",
   "execution_count": 50,
   "metadata": {},
   "outputs": [
    {
     "name": "stdout",
     "output_type": "stream",
     "text": [
      "[('Friday', 23371), ('Saturday', 22172)]\n"
     ]
    }
   ],
   "source": [
    "cur.execute(\"SELECT DISTINCT(DayOfWeek), COUNT(*) AS Number FROM SanFrancisco_Crime GROUP BY DayOfWeek ORDER BY Number DESC LIMIT 2;\")\n",
    "pprint(cur.fetchall())"
   ]
  },
  {
   "cell_type": "markdown",
   "metadata": {},
   "source": [
    "It is seen that most criminal activities in San Francisco seems to occur on Weekends."
   ]
  },
  {
   "cell_type": "markdown",
   "metadata": {},
   "source": [
    "### Top 15 Regions in Crime"
   ]
  },
  {
   "cell_type": "code",
   "execution_count": 51,
   "metadata": {},
   "outputs": [
    {
     "name": "stdout",
     "output_type": "stream",
     "text": [
      "[('800 Block of BRYANT ST', 3561),\n",
      " ('800 Block of MARKET ST', 1405),\n",
      " ('1000 Block of POTRERO AV', 644),\n",
      " ('900 Block of MARKET ST', 547),\n",
      " ('0 Block of UNITEDNATIONS PZ', 452),\n",
      " ('500 Block of JOHNFKENNEDY DR', 448),\n",
      " ('3200 Block of 20TH AV', 431),\n",
      " ('600 Block of VALENCIA ST', 399),\n",
      " ('100 Block of OFARRELL ST', 389),\n",
      " ('1100 Block of FILLMORE ST', 382),\n",
      " ('300 Block of EDDY ST', 347),\n",
      " ('0 Block of 6TH ST', 347),\n",
      " ('800 Block of MISSION ST', 345),\n",
      " ('16TH ST / MISSION ST', 343),\n",
      " ('700 Block of MISSION ST', 336)]\n"
     ]
    }
   ],
   "source": [
    "cur.execute(\"SELECT DISTINCT(Address), COUNT(*) AS Number FROM SanFrancisco_Crime GROUP BY Address ORDER BY Number DESC LIMIT 15;\")\n",
    "pprint(cur.fetchall())"
   ]
  },
  {
   "cell_type": "markdown",
   "metadata": {},
   "source": [
    "### Distribution of Crime over the Day"
   ]
  },
  {
   "cell_type": "code",
   "execution_count": 55,
   "metadata": {},
   "outputs": [
    {
     "name": "stdout",
     "output_type": "stream",
     "text": [
      "[(12.0, 3842),\n",
      " (0.01, 3397),\n",
      " (18.0, 3165),\n",
      " (19.0, 2912),\n",
      " (20.0, 2902),\n",
      " (17.0, 2830),\n",
      " (21.0, 2590),\n",
      " (22.0, 2479),\n",
      " (16.0, 2443),\n",
      " (15.0, 2406)]\n"
     ]
    }
   ],
   "source": [
    "cur.execute(\"SELECT DISTINCT(Time), COUNT(*) AS Number FROM SanFrancisco_Crime GROUP BY Time ORDER BY Number DESC LIMIT 10;\")\n",
    "pprint(cur.fetchall())"
   ]
  },
  {
   "cell_type": "code",
   "execution_count": null,
   "metadata": {},
   "outputs": [],
   "source": []
  }
 ],
 "metadata": {
  "kernelspec": {
   "display_name": "Python 3",
   "language": "python",
   "name": "python3"
  },
  "language_info": {
   "codemirror_mode": {
    "name": "ipython",
    "version": 3
   },
   "file_extension": ".py",
   "mimetype": "text/x-python",
   "name": "python",
   "nbconvert_exporter": "python",
   "pygments_lexer": "ipython3",
   "version": "3.8.3"
  }
 },
 "nbformat": 4,
 "nbformat_minor": 4
}
